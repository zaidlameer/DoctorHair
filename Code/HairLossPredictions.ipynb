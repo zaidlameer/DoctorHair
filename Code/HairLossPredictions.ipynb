{
 "cells": [
  {
   "cell_type": "code",
   "execution_count": 13,
   "metadata": {},
   "outputs": [],
   "source": [
    "import cv2\n",
    "import keras"
   ]
  },
  {
   "cell_type": "code",
   "execution_count": 14,
   "metadata": {},
   "outputs": [],
   "source": [
    "import numpy as np\n",
    "CATEGORIES = ['HairLoss', 'HealthyHair']\n",
    "\n",
    "\n",
    "def image(path):\n",
    "    \n",
    "    img = cv2.imread(path, cv2.IMREAD_COLOR)\n",
    "    new_arr = cv2.resize(img, (80, 80))\n",
    "    new_arr = np.array(new_arr)\n",
    "    new_arr = new_arr.reshape(-1, 80, 80, 3)\n",
    "    return new_arr\n",
    "\n",
    "model = keras.models.load_model('HLprediction.h5')"
   ]
  },
  {
   "cell_type": "code",
   "execution_count": 15,
   "metadata": {},
   "outputs": [
    {
     "name": "stdout",
     "output_type": "stream",
     "text": [
      "enter a valid image\n"
     ]
    },
    {
     "ename": "error",
     "evalue": "OpenCV(4.7.0) D:\\a\\opencv-python\\opencv-python\\opencv\\modules\\imgproc\\src\\resize.cpp:4062: error: (-215:Assertion failed) !ssize.empty() in function 'cv::resize'\n",
     "output_type": "error",
     "traceback": [
      "\u001b[1;31m---------------------------------------------------------------------------\u001b[0m",
      "\u001b[1;31merror\u001b[0m                                     Traceback (most recent call last)",
      "Cell \u001b[1;32mIn[15], line 1\u001b[0m\n\u001b[1;32m----> 1\u001b[0m prediction \u001b[39m=\u001b[39m model\u001b[39m.\u001b[39mpredict([image(\u001b[39m'\u001b[39;49m\u001b[39mtest_1.png\u001b[39;49m\u001b[39m'\u001b[39;49m)])\n\u001b[0;32m      2\u001b[0m \u001b[39mprint\u001b[39m(CATEGORIES[prediction\u001b[39m.\u001b[39margmax()])\n",
      "Cell \u001b[1;32mIn[14], line 11\u001b[0m, in \u001b[0;36mimage\u001b[1;34m(path)\u001b[0m\n\u001b[0;32m      8\u001b[0m \u001b[39mif\u001b[39;00m img \u001b[39mis\u001b[39;00m \u001b[39mNone\u001b[39;00m:\n\u001b[0;32m      9\u001b[0m     \u001b[39mprint\u001b[39m(\u001b[39m\"\u001b[39m\u001b[39menter a valid image\u001b[39m\u001b[39m\"\u001b[39m)\n\u001b[1;32m---> 11\u001b[0m new_arr \u001b[39m=\u001b[39m cv2\u001b[39m.\u001b[39;49mresize(img, (\u001b[39m80\u001b[39;49m, \u001b[39m80\u001b[39;49m))\n\u001b[0;32m     12\u001b[0m new_arr \u001b[39m=\u001b[39m np\u001b[39m.\u001b[39marray(new_arr)\n\u001b[0;32m     13\u001b[0m new_arr \u001b[39m=\u001b[39m new_arr\u001b[39m.\u001b[39mreshape(\u001b[39m-\u001b[39m\u001b[39m1\u001b[39m, \u001b[39m80\u001b[39m, \u001b[39m80\u001b[39m, \u001b[39m3\u001b[39m)\n",
      "\u001b[1;31merror\u001b[0m: OpenCV(4.7.0) D:\\a\\opencv-python\\opencv-python\\opencv\\modules\\imgproc\\src\\resize.cpp:4062: error: (-215:Assertion failed) !ssize.empty() in function 'cv::resize'\n"
     ]
    }
   ],
   "source": [
    "prediction = model.predict([image('test_1.png')])\n",
    "print(CATEGORIES[prediction.argmax()])"
   ]
  }
 ],
 "metadata": {
  "kernelspec": {
   "display_name": "Python 3",
   "language": "python",
   "name": "python3"
  },
  "language_info": {
   "codemirror_mode": {
    "name": "ipython",
    "version": 3
   },
   "file_extension": ".py",
   "mimetype": "text/x-python",
   "name": "python",
   "nbconvert_exporter": "python",
   "pygments_lexer": "ipython3",
   "version": "3.11.2"
  },
  "orig_nbformat": 4
 },
 "nbformat": 4,
 "nbformat_minor": 2
}
